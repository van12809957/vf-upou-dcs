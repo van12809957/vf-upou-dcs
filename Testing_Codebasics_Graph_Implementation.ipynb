{
  "cells": [
    {
      "cell_type": "code",
      "execution_count": 14,
      "metadata": {},
      "outputs": [],
      "source": [
        "# https://github.com/van12809957/vf-upou-dcs"
      ]
    },
    {
      "cell_type": "code",
      "execution_count": 15,
      "metadata": {
        "id": "db7Qff0mKeti"
      },
      "outputs": [],
      "source": [
        "import os\n",
        "import pandas as pd\n",
        "import csv"
      ]
    },
    {
      "cell_type": "code",
      "execution_count": 16,
      "metadata": {
        "colab": {
          "base_uri": "https://localhost:8080/"
        },
        "id": "Po8neWqBK6YF",
        "outputId": "8a4f7179-cf5e-4105-f0fd-f3ec4c520d79"
      },
      "outputs": [
        {
          "name": "stdout",
          "output_type": "stream",
          "text": [
            "Python 3.11.0\n"
          ]
        }
      ],
      "source": [
        "!python --version"
      ]
    },
    {
      "cell_type": "code",
      "execution_count": 17,
      "metadata": {},
      "outputs": [
        {
          "data": {
            "text/plain": [
              "['.git',\n",
              " '.gitignore',\n",
              " 'data_transpo.csv',\n",
              " 'README.md',\n",
              " 'Testing_Codebasics_Graph_Implementation.ipynb']"
            ]
          },
          "execution_count": 17,
          "metadata": {},
          "output_type": "execute_result"
        }
      ],
      "source": [
        "os.listdir()"
      ]
    },
    {
      "cell_type": "markdown",
      "metadata": {
        "id": "zMD4ZtgGKhhH"
      },
      "source": [
        "# Load Data"
      ]
    },
    {
      "cell_type": "code",
      "execution_count": 18,
      "metadata": {},
      "outputs": [],
      "source": [
        "## we could utilize pandas but will stick with base python for now to practice\n",
        "# data_transpo = pd.read_csv('data_transpo.csv')\n",
        "# data_transpo\n",
        "\n",
        "# we could modify the class to accept arrays instead of tuples directly from the loading of data"
      ]
    },
    {
      "cell_type": "code",
      "execution_count": 19,
      "metadata": {},
      "outputs": [
        {
          "data": {
            "text/plain": [
              "[['source', 'destination', 'mode', 'traveltime', 'destination_type'],\n",
              " ['A', 'ABC Elementary School', 'car', '15', 'School'],\n",
              " ['A', 'Smith Hospital', 'car', '7', 'Hospital'],\n",
              " ['B', 'ABC Elementary School', 'car', '10', 'School'],\n",
              " ['B', 'Smith Hospital', 'walk', '20', 'Hospital'],\n",
              " ['C', 'ABC Elementary School', 'car', '7', 'School'],\n",
              " ['C', 'Barangay KNL Tricycle Terminal', 'walk', '5', 'Tricycle Terminal'],\n",
              " ['T', 'ABC Elementary School', 'tricycle', '3', 'School']]"
            ]
          },
          "execution_count": 19,
          "metadata": {},
          "output_type": "execute_result"
        }
      ],
      "source": [
        "with open(\"data_transpo.csv\", \"r\", encoding='utf-8-sig') as f:\n",
        "    reader = csv.reader(f)\n",
        "    data_transpo = list(reader)\n",
        "\n",
        "data_transpo"
      ]
    },
    {
      "cell_type": "code",
      "execution_count": 20,
      "metadata": {},
      "outputs": [],
      "source": [
        "# data_transpo[1:]"
      ]
    },
    {
      "cell_type": "code",
      "execution_count": 21,
      "metadata": {},
      "outputs": [],
      "source": [
        "# .pop ia inplace()\n",
        "\n",
        "# data_transpo.pop(0)\n",
        "# data_transpo"
      ]
    },
    {
      "cell_type": "code",
      "execution_count": 22,
      "metadata": {},
      "outputs": [],
      "source": [
        "# test = {'test': 1,\n",
        "#         'da': 2}\n",
        "\n",
        "# for elem in test:\n",
        "#     print(elem)"
      ]
    },
    {
      "cell_type": "markdown",
      "metadata": {},
      "source": [
        "# Class"
      ]
    },
    {
      "cell_type": "code",
      "execution_count": 23,
      "metadata": {
        "colab": {
          "base_uri": "https://localhost:8080/"
        },
        "id": "TzdLTtg-k2by",
        "outputId": "1893023a-876f-47b0-a429-161b789677a1"
      },
      "outputs": [],
      "source": [
        "# based on codebasics\n",
        "# adjusting the code to be able to take more dimensions\n",
        "\n",
        "# decided to declare a node class which will help in expanding the dimensions available per node in the graph\n",
        "# what happens is graph_dict now contains a dictionary. Dictionary within a dictionary. \n",
        "\n",
        "class Node:\n",
        "    def __init__(self):\n",
        "        \"\"\" \n",
        "            Generates a Node that represents each location in a map. \n",
        "        \n",
        "            destination_dict = dictionary that contains the destination for each source and accompanying details. Expandable. \n",
        "            \n",
        "            Template:\n",
        "\n",
        "            {\n",
        "                destination_1: {\n",
        "                    traveltime: _____ (in minutes),\n",
        "                    mode: _____,\n",
        "                },\n",
        "                destination_2: {\n",
        "                    traveltime: _____ (in minutes),\n",
        "                    mode: _____,\n",
        "                }\n",
        "            }\n",
        "\n",
        "            Example:\n",
        "\n",
        "            {\n",
        "                'ABC Hospital': {\n",
        "                    traveltime: 30,\n",
        "                    mode: car\n",
        "                },\n",
        "                'XYZ School': {\n",
        "                    traveltime: 5,\n",
        "                    mode: tricycle\n",
        "                }\n",
        "            }\n",
        "\n",
        "        \"\"\"\n",
        "        \n",
        "        self.destination_dict = {}\n",
        "\n",
        "    def addDestination(self, data_dict):\n",
        "        new_destination = data_dict['destination']\n",
        "\n",
        "        #  you may expand the details of each node through the following code\n",
        "        # not every column is autoamtically stored in graph_dict\n",
        "        cols_to_store = ['mode', 'traveltime', 'destination_type']\n",
        "\n",
        "        node_details_dict = {}\n",
        "        \n",
        "        for elem in cols_to_store: \n",
        "            node_details_dict[elem] = data_dict[elem]\n",
        "\n",
        "        self.destination_dict[new_destination] = node_details_dict\n",
        "\n",
        "\n",
        "class Graph:\n",
        "    def __init__(self, data, isHeader=True):\n",
        "        \"\"\"\n",
        "        Generates the graph using provided data. \n",
        "\n",
        "        data = List of lists. Minimum expected data per list is: [source, destination, mode, traveltime]\n",
        "        \"\"\"\n",
        "\n",
        "        # the original self.graph_dict() is utilized to determine paths.\n",
        "        # however this limits the capability of the graph dict to consider path weights and other data\n",
        "        # there are numerous approaches on how we can modify the code such as creating a new class for the node\n",
        "        # thus this modification maintains the graph_dict logic\n",
        "            # there is a key representing the source\n",
        "            # instead of a list containing the destinations, \n",
        "            # we'll have a list where the first element is the \n",
        "\n",
        "        if isHeader:\n",
        "            col_headers = data[0]\n",
        "            self.edges = data[1:]\n",
        "        else:\n",
        "            self.edges = data\n",
        "\n",
        "        self.graph_dict = {}\n",
        "\n",
        "        for row in self.edges:\n",
        "\n",
        "            temp_dict = {}\n",
        "\n",
        "            source = row[col_headers.index('source')]\n",
        "\n",
        "            # to avoid hardcoding and overhauling code at every expansion\n",
        "            # throw all the data in dict and then let the addDestination handle all the parsing\n",
        "            for elem in col_headers:\n",
        "                temp_dict[elem] = row[col_headers.index(elem)]\n",
        "\n",
        "            if source in self.graph_dict:\n",
        "                self.graph_dict[source].addDestination(\n",
        "                    temp_dict\n",
        "                )\n",
        "            else:\n",
        "                myNode = Node()\n",
        "                myNode.addDestination(temp_dict)\n",
        "                self.graph_dict[source] = myNode\n",
        "\n",
        "    def print_graph(self):\n",
        "        \"\"\"Prints the contents of the graph\"\"\"\n",
        "        for key in self.graph_dict:\n",
        "            print('SOURCE:', key)\n",
        "            print(self.graph_dict[key].destination_dict)\n",
        "            print('='*25)\n",
        "        print('*'*50)\n",
        "\n",
        "    \n",
        "    # def view_nearest_facility(self, facilities='all'):\n",
        "    #     if facilities=='all':\n",
        "    #         for elem in self.graph_dict:\n",
        "    #             # print only the facilities that are not labeled as house\n",
        "    #     else:\n",
        "    #         for facility in facilities:\n",
        "    #             # print the facilities that are provided as a list\n",
        "        \n",
        "\n",
        "if __name__ == '__main__':\n",
        "\n",
        "    # print('ORIGINAL DATA:')\n",
        "    # for row in data_transpo:\n",
        "    #     print(row)\n",
        "\n",
        "    # data is hard-coded for now\n",
        "    myGraph = Graph(data_transpo)\n",
        "\n",
        "\n",
        "\n"
      ]
    },
    {
      "cell_type": "code",
      "execution_count": 24,
      "metadata": {},
      "outputs": [
        {
          "data": {
            "text/plain": [
              "[['source', 'destination', 'mode', 'traveltime', 'destination_type'],\n",
              " ['A', 'ABC Elementary School', 'car', '15', 'School'],\n",
              " ['A', 'Smith Hospital', 'car', '7', 'Hospital'],\n",
              " ['B', 'ABC Elementary School', 'car', '10', 'School'],\n",
              " ['B', 'Smith Hospital', 'walk', '20', 'Hospital'],\n",
              " ['C', 'ABC Elementary School', 'car', '7', 'School'],\n",
              " ['C', 'Barangay KNL Tricycle Terminal', 'walk', '5', 'Tricycle Terminal'],\n",
              " ['T', 'ABC Elementary School', 'tricycle', '3', 'School']]"
            ]
          },
          "execution_count": 24,
          "metadata": {},
          "output_type": "execute_result"
        }
      ],
      "source": [
        "data_transpo"
      ]
    },
    {
      "cell_type": "markdown",
      "metadata": {},
      "source": [
        "# Code Demo"
      ]
    },
    {
      "cell_type": "code",
      "execution_count": 28,
      "metadata": {},
      "outputs": [],
      "source": [
        "# Hi Jan, we can change this name. Just selected this generic name for now\n",
        "\n",
        "def showMenu():\n",
        "    print('Welcome to the Urban Transport Planning Simulator!')\n",
        "    print('*'*22, 'Menu:', '*'*22)\n",
        "    print(\"\"\"\n",
        "    1 - View the Graph generated using the data\n",
        "    2 - View all direct destinations and relevant details from a specific location\n",
        "    3 - View the nearest facilities in a specific location\n",
        "    # - Exit\n",
        "        \"\"\")\n",
        "    print('*'*51)\n",
        "    userMenuSelection = input('Select an action to perform by typing the corresponding number and pressing Enter (e.g., 2):').strip()\n",
        "    return userMenuSelection"
      ]
    },
    {
      "cell_type": "code",
      "execution_count": null,
      "metadata": {},
      "outputs": [],
      "source": []
    },
    {
      "cell_type": "code",
      "execution_count": 32,
      "metadata": {
        "id": "ghqJMB9Mk64H"
      },
      "outputs": [
        {
          "name": "stdout",
          "output_type": "stream",
          "text": [
            "Welcome to the Urban Transport Planning Simulator!\n",
            "********************** Menu: **********************\n",
            "\n",
            "    1 - View the Graph generated using the data\n",
            "    2 - View all direct destinations and relevant details from a specific location\n",
            "    3 - View the nearest facilities in a specific location\n",
            "    # - Exit\n",
            "        \n",
            "***************************************************\n",
            "GRAPH GENERATED CONTAINS THE FOLLOWING:\n",
            "SOURCE: A\n",
            "{'ABC Elementary School': {'mode': 'car', 'traveltime': '15', 'destination_type': 'School'}, 'Smith Hospital': {'mode': 'car', 'traveltime': '7', 'destination_type': 'Hospital'}}\n",
            "=========================\n",
            "SOURCE: B\n",
            "{'ABC Elementary School': {'mode': 'car', 'traveltime': '10', 'destination_type': 'School'}, 'Smith Hospital': {'mode': 'walk', 'traveltime': '20', 'destination_type': 'Hospital'}}\n",
            "=========================\n",
            "SOURCE: C\n",
            "{'ABC Elementary School': {'mode': 'car', 'traveltime': '7', 'destination_type': 'School'}, 'Barangay KNL Tricycle Terminal': {'mode': 'walk', 'traveltime': '5', 'destination_type': 'Tricycle Terminal'}}\n",
            "=========================\n",
            "SOURCE: T\n",
            "{'ABC Elementary School': {'mode': 'tricycle', 'traveltime': '3', 'destination_type': 'School'}}\n",
            "=========================\n",
            "**************************************************\n",
            "Welcome to the Urban Transport Planning Simulator!\n",
            "********************** Menu: **********************\n",
            "\n",
            "    1 - View the Graph generated using the data\n",
            "    2 - View all direct destinations and relevant details from a specific location\n",
            "    3 - View the nearest facilities in a specific location\n",
            "    # - Exit\n",
            "        \n",
            "***************************************************\n",
            "Destination: ABC Elementary School\n",
            "{'mode': 'car', 'traveltime': '15', 'destination_type': 'School'}\n",
            "Destination: Smith Hospital\n",
            "{'mode': 'car', 'traveltime': '7', 'destination_type': 'Hospital'}\n",
            "Welcome to the Urban Transport Planning Simulator!\n",
            "********************** Menu: **********************\n",
            "\n",
            "    1 - View the Graph generated using the data\n",
            "    2 - View all direct destinations and relevant details from a specific location\n",
            "    3 - View the nearest facilities in a specific location\n",
            "    # - Exit\n",
            "        \n",
            "***************************************************\n",
            "Thank you for using the Urban Transport Planning Simulator!\n"
          ]
        }
      ],
      "source": [
        "# After loading the data, users are presented the following choices which act like as a menu of the available features in our notebook\n",
        "# Note that I haven't yet done a lot of exception, edge cases handling\n",
        "\n",
        "# if we want to expand the operation per choice we can create separate functions, to keep it cleaner\n",
        "while(True):\n",
        "    userMenuSelection = showMenu()\n",
        "    match userMenuSelection:\n",
        "        case '#':\n",
        "            print('Thank you for using the Urban Transport Planning Simulator!')\n",
        "            break\n",
        "        case '1':\n",
        "            print('GRAPH GENERATED CONTAINS THE FOLLOWING:')\n",
        "            myGraph.print_graph()\n",
        "            continue\n",
        "        case '2':     \n",
        "            userInput = input('Enter selected location:')\n",
        "            userInput = userInput.strip()\n",
        "            for elem in myGraph.graph_dict[userInput].destination_dict:\n",
        "                print('Destination:', elem)\n",
        "                print(myGraph.graph_dict[userInput].destination_dict[elem])\n",
        "            continue\n",
        "        case _:\n",
        "            continue\n"
      ]
    },
    {
      "cell_type": "code",
      "execution_count": null,
      "metadata": {},
      "outputs": [],
      "source": []
    },
    {
      "cell_type": "code",
      "execution_count": null,
      "metadata": {},
      "outputs": [],
      "source": []
    },
    {
      "cell_type": "code",
      "execution_count": null,
      "metadata": {},
      "outputs": [],
      "source": []
    },
    {
      "cell_type": "code",
      "execution_count": null,
      "metadata": {},
      "outputs": [],
      "source": []
    },
    {
      "cell_type": "code",
      "execution_count": null,
      "metadata": {},
      "outputs": [],
      "source": []
    },
    {
      "cell_type": "code",
      "execution_count": null,
      "metadata": {},
      "outputs": [],
      "source": []
    },
    {
      "cell_type": "code",
      "execution_count": null,
      "metadata": {},
      "outputs": [],
      "source": []
    },
    {
      "cell_type": "code",
      "execution_count": null,
      "metadata": {},
      "outputs": [],
      "source": []
    },
    {
      "cell_type": "code",
      "execution_count": null,
      "metadata": {},
      "outputs": [],
      "source": []
    },
    {
      "cell_type": "code",
      "execution_count": null,
      "metadata": {},
      "outputs": [],
      "source": []
    },
    {
      "cell_type": "code",
      "execution_count": null,
      "metadata": {},
      "outputs": [],
      "source": []
    },
    {
      "cell_type": "code",
      "execution_count": null,
      "metadata": {},
      "outputs": [],
      "source": []
    },
    {
      "cell_type": "code",
      "execution_count": null,
      "metadata": {},
      "outputs": [],
      "source": []
    },
    {
      "cell_type": "code",
      "execution_count": null,
      "metadata": {},
      "outputs": [],
      "source": [
        "# # from codebasics\n",
        "# # this is not built for expansion...\n",
        "\n",
        "# class Graph:\n",
        "#     def __init__(self, edges):\n",
        "#         \"\"\"\n",
        "#         edges = List containing tuples with two elements... need to adjust to become open for multiple dimensions\n",
        "\n",
        "        \n",
        "#         \"\"\"\n",
        "#         self.edges = edges\n",
        "#         self.graph_dict = {}\n",
        "#         for start, end in edges:\n",
        "#             if start in self.graph_dict:\n",
        "#                 self.graph_dict[start].append(end)\n",
        "#             else:\n",
        "#                 self.graph_dict[start] = [end]\n",
        "#         print(\"Graph Dict:\", self.graph_dict)\n",
        "\n",
        "#     def get_paths(self, start, end, path=[]):\n",
        "#         path = path + [start]\n",
        "\n",
        "#         if start == end:\n",
        "#             return [path]\n",
        "\n",
        "#         if start not in self.graph_dict:\n",
        "#             return []\n",
        "\n",
        "#         paths = []\n",
        "#         for node in self.graph_dict[start]:\n",
        "#             if node not in path:\n",
        "#                 new_paths = self.get_paths(node, end, path)\n",
        "#                 for p in new_paths:\n",
        "#                     paths.append(p)\n",
        "\n",
        "#         return paths\n",
        "\n",
        "#     def get_shortest_path(self, start, end, path=[]):\n",
        "#         path = path + [start]\n",
        "#         # Multipliers should also be stored and parsed and we need to get sum?\n",
        "\n",
        "#         if start == end:\n",
        "#             return path\n",
        "\n",
        "#         if start not in self.graph_dict:\n",
        "#             return None\n",
        "\n",
        "#         shortest_path = None\n",
        "#         for node in self.graph_dict[start]:\n",
        "#             if node not in path:\n",
        "#                 sp = self.get_shortest_path(node, end, path)\n",
        "#                 if sp:\n",
        "#                     if shortest_path is None or len(sp) < len(shortest_path):\n",
        "#                         shortest_path = sp\n",
        "#                         # in this line of code we would likely need to keep a track of the type of transportation and the multiplier (weighted edge)\n",
        "#                         # instead of start end only, node should have a multiplier value as well.\n",
        "#         return shortest_path\n",
        "\n",
        "# if __name__ == '__main__':\n",
        "\n",
        "#     routes = [\n",
        "#         (\"Mumbai\",\"Pune\"),\n",
        "#         (\"Mumbai\", \"Surat\"),\n",
        "#         (\"Surat\", \"Bangaluru\"),\n",
        "#         (\"Pune\",\"Hyderabad\"),\n",
        "#         (\"Pune\",\"Mysuru\"),\n",
        "#         (\"Hyderabad\",\"Bangaluru\"),\n",
        "#         (\"Hyderabad\", \"Chennai\"),\n",
        "#         (\"Mysuru\", \"Bangaluru\"),\n",
        "#         (\"Chennai\", \"Bangaluru\")\n",
        "#     ]\n",
        "\n",
        "#     routes = [\n",
        "#         (\"Mumbai\", \"Paris\"),\n",
        "#         (\"Mumbai\", \"Dubai\"),\n",
        "#         (\"Paris\", \"Dubai\"),\n",
        "#         (\"Paris\", \"New York\"),\n",
        "#         (\"Dubai\", \"New York\"),\n",
        "#         (\"New York\", \"Toronto\"),\n",
        "#     ]\n",
        "\n",
        "#     route_graph = Graph(routes)\n",
        "\n",
        "#     start = \"Mumbai\"\n",
        "#     end = \"New York\"\n",
        "\n",
        "#     print(f\"All paths between: {start} and {end}: \",route_graph.get_paths(start,end))\n",
        "#     print(f\"Shortest path between {start} and {end}: \", route_graph.get_shortest_path(start,end))\n",
        "\n",
        "#     start = \"Dubai\"\n",
        "#     end = \"New York\"\n",
        "\n",
        "#     print(f\"All paths between: {start} and {end}: \",route_graph.get_paths(start,end))\n",
        "#     print(f\"Shortest path between {start} and {end}: \", route_graph.get_shortest_path(start,end))"
      ]
    }
  ],
  "metadata": {
    "colab": {
      "provenance": []
    },
    "kernelspec": {
      "display_name": "Python 3",
      "name": "python3"
    },
    "language_info": {
      "codemirror_mode": {
        "name": "ipython",
        "version": 3
      },
      "file_extension": ".py",
      "mimetype": "text/x-python",
      "name": "python",
      "nbconvert_exporter": "python",
      "pygments_lexer": "ipython3",
      "version": "undefined.undefined.undefined"
    }
  },
  "nbformat": 4,
  "nbformat_minor": 0
}
